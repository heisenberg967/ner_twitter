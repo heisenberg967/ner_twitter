{
  "nbformat": 4,
  "nbformat_minor": 0,
  "metadata": {
    "colab": {
      "provenance": []
    },
    "kernelspec": {
      "name": "python3",
      "display_name": "Python 3"
    },
    "language_info": {
      "name": "python"
    },
    "accelerator": "GPU"
  },
  "cells": [
    {
      "cell_type": "code",
      "execution_count": null,
      "metadata": {
        "id": "cyW5yBpvXlwE"
      },
      "outputs": [],
      "source": [
        "!wget https://raw.githubusercontent.com/heisenberg967/ner_twitter/main/data/train.txt # train data\n",
        "!wget https://raw.githubusercontent.com/heisenberg967/ner_twitter/main/data/validation.txt # validation data\n",
        "!wget https://raw.githubusercontent.com/heisenberg967/ner_twitter/main/data/test.txt # test data"
      ]
    },
    {
      "cell_type": "code",
      "execution_count": null,
      "metadata": {
        "id": "WnZPPb6B6uUH"
      },
      "outputs": [],
      "source": [
        "import pandas as pd\n",
        "\n",
        "def read_data(file_path):\n",
        "    tokens = []\n",
        "    tags = []\n",
        "    dataframe_list = []\n",
        "    tweet_tokens = []\n",
        "    tweet_tags = []\n",
        "    for line in open(file_path, encoding='utf-8'):\n",
        "        line = line.strip()\n",
        "        if not line:\n",
        "            if tweet_tokens:\n",
        "                k = []\n",
        "                k.append(tweet_tokens)\n",
        "                k.append(tweet_tags)\n",
        "                dataframe_list.append(k)\n",
        "                tokens.append(tweet_tokens)\n",
        "                tags.append(tweet_tags)\n",
        "            tweet_tokens = []\n",
        "            tweet_tags = []\n",
        "        else:\n",
        "            token, tag = line.split()\n",
        "            if token.startswith('@'):\n",
        "                token = '<USR>'\n",
        "            elif token.lower().startswith('https://') or token.lower().startswith('http://'):\n",
        "                token = '<URL>'\n",
        "            \n",
        "            tweet_tokens.append(token)\n",
        "            tweet_tags.append(tag)\n",
        "            \n",
        "    df = pd.DataFrame(dataframe_list,columns=[\"tokens\",\"tags\"])\n",
        "    \n",
        "    return tokens, tags , df\n",
        "\n",
        "\n"
      ]
    },
    {
      "cell_type": "code",
      "source": [
        "train_tokens, train_tags, train_df = read_data('data/train.txt')\n",
        "validation_tokens, validation_tags,valid_df = read_data('data/validation.txt')\n",
        "test_tokens, test_tags, test_df = read_data('data/test.txt')"
      ],
      "metadata": {
        "id": "azoTTMt_YWm7"
      },
      "execution_count": null,
      "outputs": []
    },
    {
      "cell_type": "code",
      "source": [
        "from collections import defaultdict\n",
        "def build_dict(tokens_or_tags, special_tokens):\n",
        "    \"\"\"\n",
        "        tokens_or_tags: a list of lists of tokens or tags\n",
        "        special_tokens: some special tokens\n",
        "    \"\"\"\n",
        "    # Create a dictionary with default value 0\n",
        "    tok2idx = defaultdict(lambda: 0)\n",
        "    idx2tok = []\n",
        "    \n",
        "    # Create mappings from tokens to indices and vice versa\n",
        "    # Add special tokens to dictionaries\n",
        "    # The first special token must have index 0\n",
        "    \n",
        "    voc = set([x for ele in tokens_or_tags for x in ele])\n",
        "    voc_size = len(voc)+len(special_tokens)\n",
        "    idx2tok = ['']*voc_size\n",
        "\n",
        "    for i,token in enumerate(special_tokens):\n",
        "        #print(i)\n",
        "        tok2idx[token] = i\n",
        "        idx2tok[i] = token\n",
        "    \n",
        "    for i, token in enumerate(voc, len(special_tokens)):\n",
        "        tok2idx[token] = i-1\n",
        "        idx2tok[i] = token\n",
        "        \n",
        "    \n",
        "    return tok2idx, idx2tok\n",
        "\n"
      ],
      "metadata": {
        "id": "9utr9Og4q_IE"
      },
      "execution_count": null,
      "outputs": []
    },
    {
      "cell_type": "code",
      "source": [
        "special_tokens = ['<UNK>', '<PAD>']\n",
        "special_tags = ['O']\n",
        "\n",
        "# Create dictionaries \n",
        "token2idx, idx2token = build_dict(train_tokens + validation_tokens, special_tokens)\n",
        "tag2idx, idx2tag = build_dict(train_tags, special_tags)\n",
        "\n",
        "def add_token_or_tag_idx(token2idx,tag2idx,df):\n",
        "  token_idx = []\n",
        "  tag_idx = []\n",
        "  for i in range(len(df)):\n",
        "    tkn_idx = []\n",
        "    tg_idx = []\n",
        "    for token in df[\"tokens\"].iloc[i]:\n",
        "      tkn_idx.append(token2idx[token])\n",
        "    token_idx.append(tkn_idx)\n",
        "  \n",
        "    for tag in df[\"tags\"].iloc[i]:\n",
        "      tg_idx.append(tag2idx[tag])\n",
        "    tag_idx.append(tg_idx)\n",
        "  \n",
        "  df[\"token_idx\"] = token_idx\n",
        "  df[\"tag_idx\"] = tag_idx"
      ],
      "metadata": {
        "id": "ZF-DXmZan17o"
      },
      "execution_count": null,
      "outputs": []
    },
    {
      "cell_type": "code",
      "source": [
        "add_token_or_tag_idx(token2idx,tag2idx,train_df)\n",
        "add_token_or_tag_idx(token2idx,tag2idx,valid_df)\n",
        "add_token_or_tag_idx(token2idx,tag2idx,test_df)\n"
      ],
      "metadata": {
        "id": "yZwAQg4PozGX"
      },
      "execution_count": null,
      "outputs": []
    },
    {
      "cell_type": "code",
      "source": [
        "train_df[\"tag_idx\"].iloc[10]\n",
        "#test_df.head()"
      ],
      "metadata": {
        "id": "DJDnp-lirMsm"
      },
      "execution_count": null,
      "outputs": []
    },
    {
      "cell_type": "code",
      "source": [
        "from sklearn.model_selection import train_test_split\n",
        "from keras.preprocessing.sequence import pad_sequences\n",
        "from tensorflow.keras.utils import to_categorical\n"
      ],
      "metadata": {
        "id": "jAWJcpT3e4pL"
      },
      "execution_count": null,
      "outputs": []
    },
    {
      "cell_type": "code",
      "source": [
        "tag2idx"
      ],
      "metadata": {
        "id": "kV1UlxGu00zd"
      },
      "execution_count": null,
      "outputs": []
    },
    {
      "cell_type": "code",
      "source": [
        "import numpy as np\n",
        "def get_pad_train_test_val(data_group,df,token2idx,tag2idx):\n",
        "\n",
        "    #get max token and tag length\n",
        "    n_token = len(token2idx)\n",
        "\n",
        "    n_tag = len(tag2idx)\n",
        "    print(n_tag)\n",
        "\n",
        "    #Pad tokens (X var)    \n",
        "    max_tokens = df['token_idx'].tolist()\n",
        "    maxlen = max([len(s) for s in max_tokens])\n",
        "    print(maxlen)\n",
        "    tokens = data_group['token_idx'].tolist()\n",
        "    pad_tokens = pad_sequences(tokens, maxlen=maxlen, dtype='int32', padding='post', value= n_token-1)\n",
        "    print(pad_tokens)\n",
        "    #Pad Tags (y var) and convert it into one hot encoding\n",
        "    tags = data_group['tag_idx'].tolist()\n",
        "    pad_tags = pad_sequences(tags, maxlen=maxlen, dtype='int32', padding='post', value= tag2idx[\"O\"])\n",
        "    print(pad_tags.shape)\n",
        "    n_tags = len(tag2idx)\n",
        "    #print(pad_tags[5794],len(pad_tokens))\n",
        "    tags_lst = []\n",
        "    for i in range(len(pad_tags)):\n",
        "      try:\n",
        "        tags_lst.append(to_categorical(pad_tags[i],num_classes=n_tags))\n",
        "        #print(len(pad_tags[i]))\n",
        "      except Exception as e:\n",
        "        print(e,\"error\",i,pad_tags[i],len(pad_tags[i]),type(pad_tags[i]))\n",
        "  \n",
        "    print(len(pad_tokens),len(tags_lst))\n",
        "    return pad_tokens, np.array(tags_lst)"
      ],
      "metadata": {
        "id": "wm4oHVF7e54l"
      },
      "execution_count": null,
      "outputs": []
    },
    {
      "cell_type": "code",
      "source": [],
      "metadata": {
        "id": "R3VqcGzT0iFJ"
      },
      "execution_count": null,
      "outputs": []
    },
    {
      "cell_type": "code",
      "source": [
        "pad_train_token, pad_train_tag = get_pad_train_test_val(train_df,train_df,token2idx,tag2idx)\n",
        "pad_valid_token, pad_valid_tag = get_pad_train_test_val(valid_df,train_df,token2idx,tag2idx)\n",
        "pad_test_token, pad_test_tag = get_pad_train_test_val(test_df,train_df,token2idx,tag2idx)"
      ],
      "metadata": {
        "id": "rXr8QGxKs30e"
      },
      "execution_count": null,
      "outputs": []
    },
    {
      "cell_type": "code",
      "source": [
        "pad_train_tag.shape"
      ],
      "metadata": {
        "colab": {
          "base_uri": "https://localhost:8080/"
        },
        "id": "1iukZqhJ6x5Q",
        "outputId": "9af45c69-e60e-4848-e8a1-9122f4fa47ff"
      },
      "execution_count": null,
      "outputs": [
        {
          "output_type": "execute_result",
          "data": {
            "text/plain": [
              "(5795, 41, 21)"
            ]
          },
          "metadata": {},
          "execution_count": 16
        }
      ]
    },
    {
      "cell_type": "code",
      "source": [
        "import numpy as np\n",
        "import tensorflow\n",
        "from tensorflow.keras import Sequential, Model, Input\n",
        "from tensorflow.keras.layers import LSTM, Embedding, Dense, TimeDistributed, Dropout, Bidirectional\n",
        "from tensorflow.keras.utils import plot_model"
      ],
      "metadata": {
        "id": "H1BhrZH2u8aT"
      },
      "execution_count": null,
      "outputs": []
    },
    {
      "cell_type": "code",
      "source": [
        "from numpy.random import seed\n",
        "seed(1)\n",
        "tensorflow.random.set_seed(2)"
      ],
      "metadata": {
        "id": "zS5M0JlGvCGQ"
      },
      "execution_count": null,
      "outputs": []
    },
    {
      "cell_type": "code",
      "source": [
        "input_dim = len(token2idx)\n",
        "output_dim = 64\n",
        "input_length = max([len(s) for s in train_df['token_idx'].tolist()])\n",
        "n_tags = len(tag2idx)\n",
        "print('input_dim: ', input_dim, '\\noutput_dim: ', output_dim, '\\ninput_length: ', input_length, '\\nn_tags: ', n_tags)"
      ],
      "metadata": {
        "colab": {
          "base_uri": "https://localhost:8080/"
        },
        "id": "tUpfapitvORg",
        "outputId": "f8a39e45-2a0c-44a0-8077-2d66a70b9cb1"
      },
      "execution_count": null,
      "outputs": [
        {
          "output_type": "stream",
          "name": "stdout",
          "text": [
            "input_dim:  21966 \n",
            "output_dim:  64 \n",
            "input_length:  41 \n",
            "n_tags:  21\n"
          ]
        }
      ]
    },
    {
      "cell_type": "code",
      "source": [
        "def get_bilstm_lstm_model():\n",
        "    model = Sequential()\n",
        "\n",
        "    # Add Embedding layer\n",
        "    model.add(Embedding(input_dim=input_dim, output_dim=output_dim, input_length=input_length))\n",
        "\n",
        "    # Add bidirectional LSTM\n",
        "    model.add(Bidirectional(LSTM(units=output_dim, return_sequences=True, dropout=0.2, recurrent_dropout=0.2), merge_mode = 'concat'))\n",
        "\n",
        "    # Add LSTM\n",
        "    model.add(LSTM(units=output_dim, return_sequences=True, dropout=0.5, recurrent_dropout=0.5))\n",
        "\n",
        "    # Add timeDistributed Layer\n",
        "    model.add(TimeDistributed(Dense(n_tags, activation=\"relu\")))\n",
        "\n",
        "    #Optimiser \n",
        "    # adam = k.optimizers.Adam(lr=0.0005, beta_1=0.9, beta_2=0.999)\n",
        "\n",
        "    # Compile model\n",
        "    model.compile(loss='categorical_crossentropy', optimizer='adam', metrics=['accuracy'])\n",
        "    model.summary()\n",
        "    \n",
        "    return model"
      ],
      "metadata": {
        "id": "KJWBDyySvsHa"
      },
      "execution_count": null,
      "outputs": []
    },
    {
      "cell_type": "code",
      "source": [
        "def train_model(X, y, model):\n",
        "    loss = list()\n",
        "    for i in range(25):\n",
        "        # fit model for one epoch on this sequence\n",
        "        hist = model.fit(X, y, batch_size=100, verbose=1, epochs=1, validation_split=0.2)\n",
        "        loss.append(hist.history['loss'][0])\n",
        "    return loss"
      ],
      "metadata": {
        "id": "0tvmfn0XvzDc"
      },
      "execution_count": null,
      "outputs": []
    },
    {
      "cell_type": "code",
      "source": [
        "print(np.array(pad_train_token).shape)"
      ],
      "metadata": {
        "colab": {
          "base_uri": "https://localhost:8080/"
        },
        "id": "04-YG9SnwWUw",
        "outputId": "1c462edd-86b7-4072-ed4f-f27675b7d109"
      },
      "execution_count": null,
      "outputs": [
        {
          "output_type": "stream",
          "name": "stdout",
          "text": [
            "(5795, 41)\n"
          ]
        }
      ]
    },
    {
      "cell_type": "code",
      "source": [
        "results = pd.DataFrame()\n",
        "model_bilstm_lstm = get_bilstm_lstm_model()\n",
        "plot_model(model_bilstm_lstm)\n",
        "results['with_add_lstm'] = train_model(pad_train_token, pad_train_tag, model_bilstm_lstm)"
      ],
      "metadata": {
        "colab": {
          "base_uri": "https://localhost:8080/"
        },
        "id": "0dsbLTfiv2VT",
        "outputId": "0b10b979-63d8-4c08-c756-287ba7281752"
      },
      "execution_count": null,
      "outputs": [
        {
          "output_type": "stream",
          "name": "stderr",
          "text": [
            "WARNING:tensorflow:Layer lstm will not use cuDNN kernels since it doesn't meet the criteria. It will use a generic GPU kernel as fallback when running on GPU.\n",
            "WARNING:tensorflow:Layer lstm will not use cuDNN kernels since it doesn't meet the criteria. It will use a generic GPU kernel as fallback when running on GPU.\n",
            "WARNING:tensorflow:Layer lstm will not use cuDNN kernels since it doesn't meet the criteria. It will use a generic GPU kernel as fallback when running on GPU.\n",
            "WARNING:tensorflow:Layer lstm_1 will not use cuDNN kernels since it doesn't meet the criteria. It will use a generic GPU kernel as fallback when running on GPU.\n"
          ]
        },
        {
          "output_type": "stream",
          "name": "stdout",
          "text": [
            "Model: \"sequential\"\n",
            "_________________________________________________________________\n",
            " Layer (type)                Output Shape              Param #   \n",
            "=================================================================\n",
            " embedding (Embedding)       (None, 41, 64)            1405824   \n",
            "                                                                 \n",
            " bidirectional (Bidirectiona  (None, 41, 128)          66048     \n",
            " l)                                                              \n",
            "                                                                 \n",
            " lstm_1 (LSTM)               (None, 41, 64)            49408     \n",
            "                                                                 \n",
            " time_distributed (TimeDistr  (None, 41, 21)           1365      \n",
            " ibuted)                                                         \n",
            "                                                                 \n",
            "=================================================================\n",
            "Total params: 1,522,645\n",
            "Trainable params: 1,522,645\n",
            "Non-trainable params: 0\n",
            "_________________________________________________________________\n",
            "47/47 [==============================] - 34s 521ms/step - loss: 0.6926 - accuracy: 0.9483 - val_loss: 0.5498 - val_accuracy: 0.9659\n",
            "47/47 [==============================] - 23s 499ms/step - loss: 0.5032 - accuracy: 0.9684 - val_loss: 0.5423 - val_accuracy: 0.9659\n",
            "47/47 [==============================] - 23s 485ms/step - loss: 0.5063 - accuracy: 0.9684 - val_loss: 0.5173 - val_accuracy: 0.9659\n",
            "47/47 [==============================] - 23s 483ms/step - loss: 0.4544 - accuracy: 0.9684 - val_loss: 0.4912 - val_accuracy: 0.9659\n",
            "47/47 [==============================] - 22s 471ms/step - loss: 0.4416 - accuracy: 0.9684 - val_loss: 0.4980 - val_accuracy: 0.9659\n",
            "47/47 [==============================] - 22s 467ms/step - loss: 0.4290 - accuracy: 0.9684 - val_loss: 0.4692 - val_accuracy: 0.9659\n",
            "47/47 [==============================] - 22s 472ms/step - loss: 0.4156 - accuracy: 0.9685 - val_loss: 0.4682 - val_accuracy: 0.9660\n",
            "47/47 [==============================] - 23s 480ms/step - loss: 0.4073 - accuracy: 0.9686 - val_loss: 0.4614 - val_accuracy: 0.9660\n",
            "47/47 [==============================] - 22s 469ms/step - loss: 0.3971 - accuracy: 0.9690 - val_loss: 0.4704 - val_accuracy: 0.9661\n",
            "47/47 [==============================] - 22s 476ms/step - loss: 0.3915 - accuracy: 0.9693 - val_loss: 0.4684 - val_accuracy: 0.9662\n",
            "47/47 [==============================] - 22s 472ms/step - loss: 0.3885 - accuracy: 0.9697 - val_loss: 0.4756 - val_accuracy: 0.9663\n",
            "47/47 [==============================] - 22s 478ms/step - loss: 0.3850 - accuracy: 0.9702 - val_loss: 0.4680 - val_accuracy: 0.9664\n",
            "47/47 [==============================] - 22s 478ms/step - loss: 0.3825 - accuracy: 0.9699 - val_loss: 0.4752 - val_accuracy: 0.9664\n",
            "47/47 [==============================] - 22s 468ms/step - loss: 0.3784 - accuracy: 0.9706 - val_loss: 0.4686 - val_accuracy: 0.9665\n",
            "47/47 [==============================] - 22s 465ms/step - loss: 0.3744 - accuracy: 0.9709 - val_loss: 0.4704 - val_accuracy: 0.9665\n",
            "47/47 [==============================] - 22s 477ms/step - loss: 0.3694 - accuracy: 0.9705 - val_loss: 0.4478 - val_accuracy: 0.9666\n",
            "47/47 [==============================] - 22s 475ms/step - loss: 0.3581 - accuracy: 0.9710 - val_loss: 0.4523 - val_accuracy: 0.9667\n",
            "47/47 [==============================] - 22s 473ms/step - loss: 0.3557 - accuracy: 0.9714 - val_loss: 0.4553 - val_accuracy: 0.9668\n",
            "47/47 [==============================] - 22s 469ms/step - loss: 0.3535 - accuracy: 0.9716 - val_loss: 0.4526 - val_accuracy: 0.9667\n",
            "47/47 [==============================] - 22s 469ms/step - loss: nan - accuracy: 0.9717 - val_loss: 0.4573 - val_accuracy: 0.9669\n",
            "47/47 [==============================] - 22s 477ms/step - loss: 0.3465 - accuracy: 0.9719 - val_loss: 0.4505 - val_accuracy: 0.9669\n",
            "47/47 [==============================] - 22s 471ms/step - loss: nan - accuracy: 0.9721 - val_loss: 0.4522 - val_accuracy: 0.9669\n",
            "47/47 [==============================] - 22s 476ms/step - loss: nan - accuracy: 0.9722 - val_loss: 0.4486 - val_accuracy: 0.9670\n",
            "47/47 [==============================] - 23s 480ms/step - loss: nan - accuracy: 0.9721 - val_loss: 0.4523 - val_accuracy: 0.9670\n",
            "47/47 [==============================] - 22s 479ms/step - loss: 0.3354 - accuracy: 0.9726 - val_loss: 0.4500 - val_accuracy: 0.9670\n"
          ]
        }
      ]
    },
    {
      "cell_type": "code",
      "source": [
        "import matplotlib.pyplot as plt\n",
        "plt.plot(results['with_add_lstm'])\n",
        "plt.xlabel('Epochs');\n",
        "plt.ylabel('Loss');\n"
      ],
      "metadata": {
        "colab": {
          "base_uri": "https://localhost:8080/",
          "height": 279
        },
        "id": "DenaJGCq_ZEo",
        "outputId": "9ecc1abd-93cf-492b-bb6b-37fe23187596"
      },
      "execution_count": null,
      "outputs": [
        {
          "output_type": "display_data",
          "data": {
            "text/plain": [
              "<Figure size 432x288 with 1 Axes>"
            ],
            "image/png": "[encoded data removed]"
          },
          "metadata": {
            "needs_background": "light"
          }
        }
      ]
    },
    {
      "cell_type": "code",
      "source": [],
      "metadata": {
        "id": "faGPC4oDm-H0"
      },
      "execution_count": null,
      "outputs": []
    }
  ]
}